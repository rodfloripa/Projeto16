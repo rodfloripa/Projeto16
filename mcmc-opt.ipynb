import matplotlib.pyplot as plt
from collections import defaultdict
import random
from scipy.spatial import distance
import numpy as np
import time
import math

%matplotlib notebook

# Calculate projection of red point into blue line segment
def point_on_line(a, b, p):
    def slope(x1, y1, x2, y2): # Line slope given two points:
        return (y2-y1)/(x2-x1)

    def angle(s1, s2): 
        return math.degrees(math.atan((s2-s1)/(1+(s2*s1))))

    lineA = ((a[0],a[1]), (b[0],b[1]))
    lineB = ((a[0],a[1]), (p[0],p[1]))

    slope1 = slope(lineA[0][0], lineA[0][1], lineA[1][0], lineA[1][1])
    slope2 = slope(lineB[0][0], lineB[0][1], lineB[1][0], lineB[1][1])

    ang = np.abs((angle(slope1, slope2)))
    v_norm = np.sqrt(sum((b-a)**2))     
    proj_of_u_on_v = (np.dot((p-a), (b-a))/v_norm**2)*(b-a)+a
    if (distance.euclidean(a, b))<(distance.euclidean(a,proj_of_u_on_v)) or (b[0]>a[0] and a[0]>proj_of_u_on_v[0]) or (b[0]<a[0] and a[0]<proj_of_u_on_v[0]):
        proj_of_u_on_v = np.array([None,None])
    #print(a,b,p)
    return proj_of_u_on_v 


def plotTSP(points,constraint):

    """
    path: List of lists with the different orders in which the nodes are visited
    points: coordinates for the different nodes
        
    """

    # Generate random blue points from 0-15 and red points from 15-25
    x = []; y = []
    xp = []; yp = []
    p1 = []; p2 = []
    for i in range(0,15):
        x.append(points[i][0])
        y.append(points[i][1])
    for i in range(15,25):
        xp.append(points[i][0])
        yp.append(points[i][1])
    j1 = random.sample(range(0, 15), 1)[0]
    p1.append(points[j1][0])
    p1.append(points[j1][1])
    while 1:
        j2 = random.sample(range(0, 15), 1)[0]
        if distance.euclidean(p1,np.array([points[j2][0],points[j2][1]]))>15:
            p2.append(points[j2][0])
            p2.append(points[j2][1])
            break
    eligible_pt = [i for i in range(0,15)]
    eligible_pt.remove(j1)
        
    # Plot Points
    fig, (ax, ax1) = plt.subplots(1, 2,figsize=(10,6))
    ax.plot(x, y, 'co')
    ax.plot(xp, yp,'co',color='red')
    ax.plot([p1[0],p2[0]],[p1[1],p2[1]],'co',color='green')
    ax.text(p1[0], p1[1],'origin')
    ax.text(p2[0], p2[1],'destination')
    time.sleep( 0.4 )
    ax.set_facecolor('xkcd:salmon')
    fig.canvas.draw()
    time.sleep( 2 )
    path_points,eligible_path_points,zlist=[],[],[0]
    path_points.append(j1)
    print(points[path_points[0]])
    dist = 0
    dist_list = 'global'
    min_red_dot,eligible_min_red_dot,dst_to_red,dist_list =[],[],[],[100]
    
    dict_rept={}
    dict_rept=defaultdict(lambda: 0, dict_rept)
    
    # Loop from origin till we find the destination
    z=0
    while(1):
        
        # Calculate distances between current point and all other blue points
        distances,dist2line,origin,dest = [],[],[],[]
        a = np.array(p1)
        c = np.array(p2)
                

        # Choose next point to jump to(can't be equal to current point)
        for i in range(0,10):
            j= random.sample(eligible_pt, 1)[0]
            if (a[0]!=points[j][0]) and (a[1]!=points[j][1]):
                break
            
        eligible_pt.remove(j)
        
        
        #Record total path distance and path points
        p1 = [points[j][0],points[j][1]]
        dist = np.linalg.norm(a-np.array([points[j][0],points[j][1]]))+dist
        path_points.append(j)
        
        #Plot distance from line a-c to red dots b
        c = np.array([points[j][0],points[j][1]])
        dist2line = []
        for i in range(15,25):
            pt = []
            pt.append(points[i][0])
            pt.append(points[i][1])
            b = np.array(pt)
            try:
                pt2 = point_on_line(a, c, b)
            except:
                pt2 = point_on_line(a, c+np.array([0.1,0.1]), b)
            if pt2[0] is None:
                dist2line.append(np.inf)
            else:
                dist2line.append(distance.euclidean(pt2,b))
        
        red_dot = points[15+dist2line.index(min(dist2line))]
        p = round(min(dist2line),1)
        if red_dot in min_red_dot and p!=np.inf:
            dict_rept[red_dot]=dict_rept[red_dot]+1
            dst_to_red.append(p)
            
        elif p!=np.inf:
            dst_to_red.append(p)
        min_red_dot.append([red_dot,p])
        
        # Plot final solution
        if z>2600:
            path_points= eligible_path_points[-1]
            min_red_dot= eligible_min_red_dot[-1]
            #path_points.insert(0,j1)
            x_pt= [points[i][0] for i in path_points]
            y_pt= [points[i][1] for i in path_points]
            dict_red={}
            dict_red=defaultdict(lambda: 0, dict_red)
            k=0
            # Print the distance for the red dots
            for j in min_red_dot:
                if dict_red[(j[0][0],j[0][1])]==0 and j[1]!=np.inf:
                    ax.text(j[0][0], j[0][1]+dict_red[(j[0][0],j[0][1])],'d= {}'.format(j[1]))
                    dict_red[(j[0][0],j[0][1])] = dict_red[(j[0][0],j[0][1])]+1
                    
                elif j[1]!=np.inf:
                    ax.text(j[0][0], j[0][1]+dict_red[(j[0][0],j[0][1])],'d= {}'.format(j[1]))
                    dict_red[(j[0][0],j[0][1])] = dict_red[(j[0][0],j[0][1])]+1
                
            ax.plot(x_pt,y_pt,color='grey')
            #print([points[i] for i in path_points])
            break
        
        # Save or not eligible path length using Metropolis and reset starting from origin
        elif p1==p2 and min(dst_to_red)>constraint:
            # binomial trial, inverting 'dist' sign to maximize negative number
            # n,p: number of trials, probability of each trial
            n = 1  
            if z<1300:
                l=1e-1
            else:
                l=0.1
                #print('z',z)
            #p = min(1,math.exp(((-l*((dist)-(dist_list[-1]))))))
            p = 1-min(1,math.exp(((l*((dist)-(dist_list[-1]))))))
            s = np.random.binomial(n, p, 1)
                        
            if s[0]:
                
                path_points.insert(0,j1)
                #print([points[i] for i in path_points])
                dist_list.append(dist)
                zlist.append(z)
                eligible_min_red_dot.append(min_red_dot)
                eligible_path_points.append(path_points)
                #print(dist_list,eligible_min_red_dot,eligible_path_points)
            # Reset
            p1,path_points=[],[]
            p1.append(points[j1][0])
            p1.append(points[j1][1])
            path_points.append(j1)
            eligible_pt = [i for i in range(0,15)]
            eligible_pt.remove(j1)
            dist = 0
            min_red_dot,dst_to_red,path_points =[],[],[]
            dict_rept={}
            dict_rept=defaultdict(lambda: 0, dict_rept)
            z+=1
            
        
        # Reset
        elif p1==p2:
            p1,path_points=[],[]
            p1.append(points[j1][0])
            p1.append(points[j1][1])
            path_points.append(j1)
            eligible_pt = [i for i in range(0,15)]
            eligible_pt.remove(j1)
            dist = 0
            min_red_dot,dst_to_red,path_points =[],[],[]
            dict_rept={}
            dict_rept=defaultdict(lambda: 0, dict_rept)
            z+=1
            
    # Print final line and total length
    #plt.plot([p1[0],p2[0]],[p1[1],p2[1]])
    dist= round(dist_list[-1],1)
    ax.set_title('Path length: {}, minimum dist. to red points:{}'.format(dist,constraint))
    fig.canvas.draw()
    fig.canvas.flush_events()
    a = np.array(p1)
    b = np.array(p2)
    ax1.plot(zlist,dist_list)
    ax1.set_title('Path length for each iteration')
    ax1.set_xlabel('Iteration')
    ax1.set_ylabel('Path length')
    
    

if __name__ == '__main__':
    # Run an example
    
    # Create a randomn list of coordinates, pack them into a list
    x_cor = random.sample(range(0, 25), 25)
    y_cor = random.sample(range(0, 25), 25)
    points = []
    for i in range(0, len(x_cor)):
        points.append((x_cor[i], y_cor[i]))
    
        
    # Run the function plotTSP(points,constraint) , the constraint is the minimum
    # distance to the red points
    plotTSP(points,2)
